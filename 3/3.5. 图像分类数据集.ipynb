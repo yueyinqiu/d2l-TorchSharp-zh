{
 "cells": [
  {
   "cell_type": "code",
   "execution_count": null,
   "metadata": {
    "dotnet_interactive": {
     "language": "csharp"
    },
    "polyglot_notebook": {
     "kernelName": "csharp"
    },
    "vscode": {
     "languageId": "polyglot-notebook"
    }
   },
   "outputs": [],
   "source": [
    "#r \"nuget: Yueyinqiu.Su.D2lTorchSharp, *-*\"\n",
    "\n",
    "using ScottPlot;\n",
    "using System.Diagnostics;\n",
    "using TorchSharp;\n",
    "using TorchSharp.Modules;\n",
    "using Yueyinqiu.Su.D2lTorchSharp;\n",
    "\n",
    "D2l.Notebook.PrepareAll();"
   ]
  },
  {
   "cell_type": "markdown",
   "metadata": {},
   "source": [
    "3.5.1. 读取数据集"
   ]
  },
  {
   "cell_type": "markdown",
   "metadata": {},
   "source": [
    "TorchSharp 得到的数据集直接就以张量形式表示，不需要 `ToTensor` ："
   ]
  },
  {
   "cell_type": "code",
   "execution_count": null,
   "metadata": {
    "dotnet_interactive": {
     "language": "csharp"
    },
    "polyglot_notebook": {
     "kernelName": "csharp"
    },
    "vscode": {
     "languageId": "polyglot-notebook"
    }
   },
   "outputs": [],
   "source": [
    "var mnist_train = torchvision.datasets.FashionMNIST(\n",
    "    root: \"../gitignored/data\", train: true, download: true);\n",
    "var mnist_test = torchvision.datasets.FashionMNIST(\n",
    "    root: \"../gitignored/data\", train: false, download: true);"
   ]
  },
  {
   "cell_type": "code",
   "execution_count": null,
   "metadata": {
    "dotnet_interactive": {
     "language": "csharp"
    },
    "polyglot_notebook": {
     "kernelName": "csharp"
    },
    "vscode": {
     "languageId": "polyglot-notebook"
    }
   },
   "outputs": [],
   "source": [
    "(mnist_train.Count, mnist_test.Count)"
   ]
  },
  {
   "cell_type": "code",
   "execution_count": null,
   "metadata": {
    "dotnet_interactive": {
     "language": "csharp"
    },
    "polyglot_notebook": {
     "kernelName": "csharp"
    },
    "vscode": {
     "languageId": "polyglot-notebook"
    }
   },
   "outputs": [],
   "source": [
    "mnist_train.GetTensor(0).Values.First().shape"
   ]
  },
  {
   "cell_type": "markdown",
   "metadata": {},
   "source": [
    "由于后面绘图方式不同，这边我们改为传入单个 `label` ："
   ]
  },
  {
   "cell_type": "code",
   "execution_count": null,
   "metadata": {
    "dotnet_interactive": {
     "language": "csharp"
    },
    "polyglot_notebook": {
     "kernelName": "csharp"
    },
    "vscode": {
     "languageId": "polyglot-notebook"
    }
   },
   "outputs": [],
   "source": [
    "string GetFashionMnistLabel(torch.Tensor label)\n",
    "{\n",
    "    string[] text_labels = [\"t-shirt\", \"trouser\", \"pullover\", \"dress\", \"coat\", \n",
    "        \"sandal\", \"shirt\", \"sneaker\", \"bag\", \"ankle boot\"];\n",
    "    return text_labels[label.ToInt32()];\n",
    "}"
   ]
  },
  {
   "cell_type": "markdown",
   "metadata": {},
   "source": [
    "这里我们也不提供 `show_images` ，而是使用 d2l 包提供的 `ToSkBitmap` 扩展方法实现 `subplot` 的效果。"
   ]
  },
  {
   "cell_type": "code",
   "execution_count": null,
   "metadata": {
    "dotnet_interactive": {
     "language": "csharp"
    },
    "polyglot_notebook": {
     "kernelName": "csharp"
    },
    "vscode": {
     "languageId": "polyglot-notebook"
    }
   },
   "outputs": [],
   "source": [
    "var loader = torch.utils.data.DataLoader(mnist_train, batchSize: 18, disposeBatch: false);\n",
    "var Xy = loader.First();\n",
    "\n",
    "var X = Xy[\"data\"].reshape(18, 28, 28);\n",
    "var y = Xy[\"label\"];\n",
    "\n",
    "IEnumerable<Plot> CreatePlots()\n",
    "{\n",
    "    for (int i = 0; i < X.size(0); i++)\n",
    "    {\n",
    "        var img = X[i, .., ..];\n",
    "        \n",
    "        var plot = new Plot();\n",
    "        plot.Add.Heatmap(img);\n",
    "        plot.Title(GetFashionMnistLabel(y[i]));\n",
    "\n",
    "        foreach (var axis in plot.Axes.GetAxes())\n",
    "            axis.IsVisible = false;\n",
    "        plot.HideGrid();\n",
    "\n",
    "        yield return plot;\n",
    "    }\n",
    "}\n",
    "CreatePlots().ToSKBitmap(9, 100, 140)"
   ]
  },
  {
   "cell_type": "markdown",
   "metadata": {},
   "source": [
    "3.5.2. 读取小批量"
   ]
  },
  {
   "cell_type": "code",
   "execution_count": null,
   "metadata": {
    "dotnet_interactive": {
     "language": "csharp"
    },
    "polyglot_notebook": {
     "kernelName": "csharp"
    },
    "vscode": {
     "languageId": "polyglot-notebook"
    }
   },
   "outputs": [],
   "source": [
    "var batch_size = 256;\n",
    "\n",
    "int get_dataloader_workers() => 4;\n",
    "\n",
    "var train_iter = torch.utils.data.DataLoader(\n",
    "    mnist_train, batch_size, shuffle: true, \n",
    "    num_worker: get_dataloader_workers());"
   ]
  },
  {
   "cell_type": "markdown",
   "metadata": {},
   "source": [
    "TorchSharp 在 C# 层面自己实现了 `DataLoader` ，它使用 `Task` 来实现异步读取，而不像 PyTorch 一样启动多个进程。"
   ]
  },
  {
   "cell_type": "code",
   "execution_count": null,
   "metadata": {
    "dotnet_interactive": {
     "language": "csharp"
    },
    "polyglot_notebook": {
     "kernelName": "csharp"
    },
    "vscode": {
     "languageId": "polyglot-notebook"
    }
   },
   "outputs": [],
   "source": [
    "var timer = Stopwatch.StartNew();\n",
    "foreach (var Xy in train_iter)\n",
    "{\n",
    "    var X = Xy[\"data\"];\n",
    "    var y = Xy[\"label\"];\n",
    "    continue;\n",
    "}\n",
    "timer.Stop();\n",
    "$\"{timer.Elapsed.TotalSeconds:0.00} sec\""
   ]
  },
  {
   "cell_type": "code",
   "execution_count": null,
   "metadata": {
    "dotnet_interactive": {
     "language": "csharp"
    },
    "polyglot_notebook": {
     "kernelName": "csharp"
    },
    "vscode": {
     "languageId": "polyglot-notebook"
    }
   },
   "outputs": [],
   "source": [
    "(DataLoader trainIter, DataLoader testIter) load_data_fashion_mnist(\n",
    "    int batch_size, int? resize = null)\n",
    "{\n",
    "    var trans = resize.HasValue ? \n",
    "        torchvision.transforms.Resize(resize.Value) :\n",
    "        null;\n",
    "    var mnist_train = torchvision.datasets.FashionMNIST(\n",
    "        root: \"../gitignored/data\", train: true, target_transform: trans, download: true);\n",
    "    var mnist_test = torchvision.datasets.FashionMNIST(\n",
    "        root: \"../gitignored/data\", train: false, target_transform: trans, download: true);\n",
    "    return (\n",
    "        torch.utils.data.DataLoader(\n",
    "            mnist_train, batch_size, shuffle: true,\n",
    "            num_worker: get_dataloader_workers()),\n",
    "        torch.utils.data.DataLoader(\n",
    "            mnist_test, batch_size, shuffle: false,\n",
    "            num_worker: get_dataloader_workers())\n",
    "        );\n",
    "}"
   ]
  },
  {
   "cell_type": "code",
   "execution_count": null,
   "metadata": {
    "dotnet_interactive": {
     "language": "csharp"
    },
    "polyglot_notebook": {
     "kernelName": "csharp"
    },
    "vscode": {
     "languageId": "polyglot-notebook"
    }
   },
   "outputs": [],
   "source": [
    "var (train_iter, test_iter) = load_data_fashion_mnist(32, resize: 64);\n",
    "using (train_iter)\n",
    "using (test_iter)\n",
    "{\n",
    "    foreach (var Xy in train_iter)\n",
    "    {\n",
    "        var X = Xy[\"data\"];\n",
    "        var y = Xy[\"label\"];\n",
    "        Console.WriteLine(\n",
    "            $\"{X.shape.ToArrayString()} {X.dtype} {y.shape.ToArrayString()} {y.dtype}\");\n",
    "        break;\n",
    "    }\n",
    "}"
   ]
  },
  {
   "cell_type": "markdown",
   "metadata": {},
   "source": [
    "在 d2l 包中，我们使用 `DataLoader<Dictionary<string, Tensor>, (Tensor data, Tensor label)>` 作为返回值。它在迭代时返回元组而不是字典，使用起来和原文更加一致："
   ]
  },
  {
   "cell_type": "code",
   "execution_count": null,
   "metadata": {
    "dotnet_interactive": {
     "language": "csharp"
    },
    "polyglot_notebook": {
     "kernelName": "csharp"
    },
    "vscode": {
     "languageId": "polyglot-notebook"
    }
   },
   "outputs": [],
   "source": [
    "var (train_iter, test_iter) = D2l.Ch3.load_data_fashion_mnist(32, resize: 64);\n",
    "using (train_iter)\n",
    "using (test_iter)\n",
    "{\n",
    "    foreach (var (X, y) in train_iter)\n",
    "    {\n",
    "        Console.WriteLine(\n",
    "            $\"{X.shape.ToArrayString()} {X.dtype} {y.shape.ToArrayString()} {y.dtype}\");\n",
    "        break;\n",
    "    }\n",
    "}"
   ]
  }
 ],
 "metadata": {
  "kernelspec": {
   "display_name": ".NET (C#)",
   "language": "C#",
   "name": ".net-csharp"
  },
  "language_info": {
   "name": "python"
  },
  "polyglot_notebook": {
   "kernelInfo": {
    "defaultKernelName": "csharp",
    "items": [
     {
      "aliases": [],
      "name": "csharp"
     }
    ]
   }
  }
 },
 "nbformat": 4,
 "nbformat_minor": 2
}
