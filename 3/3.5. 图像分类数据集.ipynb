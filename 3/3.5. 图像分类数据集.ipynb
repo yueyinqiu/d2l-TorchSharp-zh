{
 "cells": [
  {
   "cell_type": "code",
   "execution_count": null,
   "metadata": {
    "dotnet_interactive": {
     "language": "csharp"
    },
    "polyglot_notebook": {
     "kernelName": "csharp"
    },
    "vscode": {
     "languageId": "polyglot-notebook"
    }
   },
   "outputs": [],
   "source": [
    "#r \"nuget: Yueyinqiu.Su.D2lTorchSharp, *-*\"\n",
    "\n",
    "using ScottPlot;\n",
    "using System.Diagnostics;\n",
    "using TorchSharp;\n",
    "using TorchSharp.Modules;\n",
    "using Yueyinqiu.Su.D2lTorchSharp;\n",
    "\n",
    "D2l.Notebook.PrepareAll();"
   ]
  },
  {
   "cell_type": "markdown",
   "metadata": {},
   "source": [
    "3.5.1. 读取数据集"
   ]
  },
  {
   "cell_type": "markdown",
   "metadata": {},
   "source": [
    "TorchSharp 得到的数据集直接就以张量形式表示，不需要 `ToTensor` ："
   ]
  },
  {
   "cell_type": "code",
   "execution_count": null,
   "metadata": {
    "dotnet_interactive": {
     "language": "csharp"
    },
    "polyglot_notebook": {
     "kernelName": "csharp"
    },
    "vscode": {
     "languageId": "polyglot-notebook"
    }
   },
   "outputs": [],
   "source": [
    "var mnist_train = torchvision.datasets.FashionMNIST(\n",
    "    root: \"../gitignored/data\", train: true, download: true);\n",
    "var mnist_test = torchvision.datasets.FashionMNIST(\n",
    "    root: \"../gitignored/data\", train: false, download: true);"
   ]
  },
  {
   "cell_type": "code",
   "execution_count": null,
   "metadata": {
    "dotnet_interactive": {
     "language": "csharp"
    },
    "polyglot_notebook": {
     "kernelName": "csharp"
    },
    "vscode": {
     "languageId": "polyglot-notebook"
    }
   },
   "outputs": [],
   "source": [
    "(mnist_train.Count, mnist_test.Count)"
   ]
  },
  {
   "cell_type": "code",
   "execution_count": null,
   "metadata": {
    "dotnet_interactive": {
     "language": "csharp"
    },
    "polyglot_notebook": {
     "kernelName": "csharp"
    },
    "vscode": {
     "languageId": "polyglot-notebook"
    }
   },
   "outputs": [],
   "source": [
    "mnist_train.GetTensor(0).Values.First().shape"
   ]
  },
  {
   "cell_type": "markdown",
   "metadata": {},
   "source": [
    "由于后面绘图方式不同，这边我们改为传入单个 `label` ："
   ]
  },
  {
   "cell_type": "code",
   "execution_count": null,
   "metadata": {
    "dotnet_interactive": {
     "language": "csharp"
    },
    "polyglot_notebook": {
     "kernelName": "csharp"
    },
    "vscode": {
     "languageId": "polyglot-notebook"
    }
   },
   "outputs": [],
   "source": [
    "string GetFashionMnistLabel(torch.Tensor label)\n",
    "{\n",
    "    string[] text_labels = [\"t-shirt\", \"trouser\", \"pullover\", \"dress\", \"coat\", \n",
    "        \"sandal\", \"shirt\", \"sneaker\", \"bag\", \"ankle boot\"];\n",
    "    return text_labels[label.ToInt32()];\n",
    "}"
   ]
  },
  {
   "cell_type": "markdown",
   "metadata": {},
   "source": [
    "这里我们也不提供 `show_images` 。"
   ]
  },
  {
   "cell_type": "code",
   "execution_count": null,
   "metadata": {
    "vscode": {
     "languageId": "polyglot-notebook"
    }
   },
   "outputs": [],
   "source": [
    "var loader = torch.utils.data.DataLoader(mnist_train, batchSize: 18);\n",
    "var enumrator = loader.GetEnumerator();\n",
    "enumrator.MoveNext();\n",
    "\n",
    "var X = enumrator.Current[\"data\"].reshape(18, 28, 28);\n",
    "var y = enumrator.Current[\"label\"];\n",
    "\n",
    "IEnumerable<Plot> CreatePlots()\n",
    "{\n",
    "    for (int i = 0; i < X.size(0); i++)\n",
    "    {\n",
    "        var img = X[i, .., ..];\n",
    "        var plot = new Plot();\n",
    "        plot.Add.Heatmap(img);\n",
    "        plot.Title(GetFashionMnistLabel(y[i]));\n",
    "        foreach (var axis in plot.Axes.GetAxes())\n",
    "            axis.IsVisible = false;\n",
    "        yield return plot;\n",
    "    }\n",
    "}\n",
    "\n",
    "CreatePlots().ToSkBitmap(9, 100, 140)"
   ]
  }
 ],
 "metadata": {
  "kernelspec": {
   "display_name": ".NET (C#)",
   "language": "C#",
   "name": ".net-csharp"
  },
  "language_info": {
   "name": "python"
  },
  "polyglot_notebook": {
   "kernelInfo": {
    "defaultKernelName": "csharp",
    "items": [
     {
      "aliases": [],
      "name": "csharp"
     }
    ]
   }
  }
 },
 "nbformat": 4,
 "nbformat_minor": 2
}
