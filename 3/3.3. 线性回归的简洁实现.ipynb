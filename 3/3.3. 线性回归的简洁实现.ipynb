{
 "cells": [
  {
   "cell_type": "code",
   "execution_count": null,
   "metadata": {
    "dotnet_interactive": {
     "language": "csharp"
    },
    "polyglot_notebook": {
     "kernelName": "csharp"
    },
    "vscode": {
     "languageId": "polyglot-notebook"
    }
   },
   "outputs": [],
   "source": [
    "#r \"nuget: Yueyinqiu.Su.D2lTorchSharp, *-*\"\n",
    "\n",
    "using ScottPlot;\n",
    "using System.Diagnostics;\n",
    "using TorchSharp;\n",
    "using TorchSharp.Modules;\n",
    "using Yueyinqiu.Su.D2lTorchSharp;\n",
    "\n",
    "D2l.Notebook.PrepareAll();"
   ]
  },
  {
   "cell_type": "markdown",
   "metadata": {},
   "source": [
    "3.2.1. 生成数据集"
   ]
  },
  {
   "cell_type": "code",
   "execution_count": null,
   "metadata": {
    "dotnet_interactive": {
     "language": "csharp"
    },
    "polyglot_notebook": {
     "kernelName": "csharp"
    },
    "vscode": {
     "languageId": "polyglot-notebook"
    }
   },
   "outputs": [],
   "source": [
    "var true_w = torch.tensor(new float[] { 2, -3.4f });\n",
    "var true_b = 4.2;\n",
    "var (features, labels) = D2l.Ch3.synthetic_data(true_w, true_b, 1000);"
   ]
  },
  {
   "cell_type": "markdown",
   "metadata": {},
   "source": [
    "3.3.2. 读取数据集"
   ]
  },
  {
   "cell_type": "code",
   "execution_count": null,
   "metadata": {
    "dotnet_interactive": {
     "language": "csharp"
    },
    "polyglot_notebook": {
     "kernelName": "csharp"
    },
    "vscode": {
     "languageId": "polyglot-notebook"
    }
   },
   "outputs": [],
   "source": [
    "IterableDataLoader load_array(torch.Tensor[] data_arrays, int batch_size, bool is_train = true)\n",
    "{\n",
    "    var dataset = torch.utils.data.TensorDataset(data_arrays);\n",
    "    return torch.utils.data.DataLoader(dataset, batch_size, shuffle: is_train);\n",
    "}\n",
    "\n",
    "var batch_size = 10;\n",
    "var data_iter = load_array([features, labels], batch_size);"
   ]
  },
  {
   "cell_type": "code",
   "execution_count": null,
   "metadata": {
    "dotnet_interactive": {
     "language": "csharp"
    },
    "polyglot_notebook": {
     "kernelName": "csharp"
    },
    "vscode": {
     "languageId": "polyglot-notebook"
    }
   },
   "outputs": [],
   "source": [
    "var enumrator = data_iter.GetEnumerator();\n",
    "enumrator.MoveNext();\n",
    "(enumrator.Current[0], enumrator.Current[1])"
   ]
  },
  {
   "cell_type": "markdown",
   "metadata": {},
   "source": [
    "3.3.3. 定义模型"
   ]
  },
  {
   "cell_type": "code",
   "execution_count": null,
   "metadata": {
    "dotnet_interactive": {
     "language": "csharp"
    },
    "polyglot_notebook": {
     "kernelName": "csharp"
    },
    "vscode": {
     "languageId": "polyglot-notebook"
    }
   },
   "outputs": [],
   "source": [
    "var net = torch.nn.Sequential(torch.nn.Linear(2, 1));"
   ]
  },
  {
   "cell_type": "markdown",
   "metadata": {},
   "source": [
    "3.3.4. 初始化模型参数"
   ]
  },
  {
   "cell_type": "code",
   "execution_count": null,
   "metadata": {
    "dotnet_interactive": {
     "language": "csharp"
    },
    "polyglot_notebook": {
     "kernelName": "csharp"
    },
    "vscode": {
     "languageId": "polyglot-notebook"
    }
   },
   "outputs": [],
   "source": [
    "((Linear)net[0]).weight.detach().normal_(0, 0.01);\n",
    "((Linear)net[0]).bias.detach().fill_(0);"
   ]
  },
  {
   "cell_type": "markdown",
   "metadata": {},
   "source": [
    "3.3.5. 定义损失函数"
   ]
  },
  {
   "cell_type": "code",
   "execution_count": null,
   "metadata": {
    "dotnet_interactive": {
     "language": "csharp"
    },
    "polyglot_notebook": {
     "kernelName": "csharp"
    },
    "vscode": {
     "languageId": "polyglot-notebook"
    }
   },
   "outputs": [],
   "source": [
    "var loss = torch.nn.MSELoss();"
   ]
  },
  {
   "cell_type": "markdown",
   "metadata": {},
   "source": [
    "3.3.6. 定义优化算法"
   ]
  },
  {
   "cell_type": "code",
   "execution_count": null,
   "metadata": {
    "dotnet_interactive": {
     "language": "csharp"
    },
    "polyglot_notebook": {
     "kernelName": "csharp"
    },
    "vscode": {
     "languageId": "polyglot-notebook"
    }
   },
   "outputs": [],
   "source": [
    "var trainer = torch.optim.SGD(net.parameters(), learningRate: 0.03);"
   ]
  },
  {
   "cell_type": "markdown",
   "metadata": {},
   "source": [
    "3.3.7. 训练"
   ]
  },
  {
   "cell_type": "code",
   "execution_count": null,
   "metadata": {
    "dotnet_interactive": {
     "language": "csharp"
    },
    "polyglot_notebook": {
     "kernelName": "csharp"
    },
    "vscode": {
     "languageId": "polyglot-notebook"
    }
   },
   "outputs": [],
   "source": [
    "var num_epochs = 3;\n",
    "foreach (var epoch in D2l.PythonLike.Range(num_epochs))\n",
    "{\n",
    "    foreach (var Xy in data_iter)\n",
    "    {\n",
    "        using (torch.NewDisposeScope())\n",
    "        {\n",
    "            var X = Xy[0];\n",
    "            var y = Xy[1];\n",
    "            var l = loss.call(net.call(X), y);\n",
    "            trainer.zero_grad();\n",
    "            l.backward();\n",
    "            trainer.step();\n",
    "        }\n",
    "    }\n",
    "    var lEpoch = loss.call(net.call(features), labels);\n",
    "    Console.WriteLine($\"epoch {epoch + 1}, loss {lEpoch.cstr()}\");\n",
    "}"
   ]
  },
  {
   "cell_type": "code",
   "execution_count": null,
   "metadata": {
    "dotnet_interactive": {
     "language": "csharp"
    },
    "polyglot_notebook": {
     "kernelName": "csharp"
    },
    "vscode": {
     "languageId": "polyglot-notebook"
    }
   },
   "outputs": [],
   "source": [
    "var w = ((Linear)net[0]).weight;\n",
    "Console.WriteLine($\"w的估计误差：{(true_w - w.reshape(true_w.shape)).cstr()}\");\n",
    "var b = ((Linear)net[0]).bias;\n",
    "Console.WriteLine($\"b的估计误差：{(true_b - b).cstr()}\");"
   ]
  }
 ],
 "metadata": {
  "kernelspec": {
   "display_name": ".NET (C#)",
   "language": "C#",
   "name": ".net-csharp"
  },
  "language_info": {
   "name": "python"
  },
  "polyglot_notebook": {
   "kernelInfo": {
    "defaultKernelName": "csharp",
    "items": [
     {
      "aliases": [],
      "name": "csharp"
     }
    ]
   }
  }
 },
 "nbformat": 4,
 "nbformat_minor": 2
}
