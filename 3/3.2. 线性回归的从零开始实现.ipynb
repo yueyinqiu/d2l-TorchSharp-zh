{
 "cells": [
  {
   "cell_type": "code",
   "execution_count": null,
   "metadata": {
    "dotnet_interactive": {
     "language": "csharp"
    },
    "polyglot_notebook": {
     "kernelName": "csharp"
    },
    "vscode": {
     "languageId": "polyglot-notebook"
    }
   },
   "outputs": [],
   "source": [
    "#r \"nuget: Yueyinqiu.Su.D2lTorchSharp, *-*\"\n",
    "\n",
    "using ScottPlot;\n",
    "using System.Diagnostics;\n",
    "using TorchSharp;\n",
    "using Yueyinqiu.Su.D2lTorchSharp;\n",
    "\n",
    "D2l.Notebook.PrepareAll();"
   ]
  },
  {
   "cell_type": "markdown",
   "metadata": {},
   "source": [
    "3.2.1. 生成数据集"
   ]
  },
  {
   "cell_type": "code",
   "execution_count": null,
   "metadata": {
    "dotnet_interactive": {
     "language": "csharp"
    },
    "polyglot_notebook": {
     "kernelName": "csharp"
    },
    "vscode": {
     "languageId": "polyglot-notebook"
    }
   },
   "outputs": [],
   "source": [
    "(torch.Tensor X, torch.Tensor y) synthetic_data(\n",
    "    torch.Tensor w, torch.Tensor b, int num_examples)\n",
    "{\n",
    "    var X = torch.normal(0, 1, [num_examples, w.size(0)]);\n",
    "    var y = torch.matmul(X, w) + b;\n",
    "    y += torch.normal(0, 0.01, y.shape);\n",
    "    return (X, y.reshape([-1, 1]));\n",
    "}\n",
    "\n",
    "var true_w = torch.tensor(new float[] { 2, -3.4f });\n",
    "var true_b = 4.2;\n",
    "var (features, labels) = synthetic_data(true_w, true_b, 1000);"
   ]
  },
  {
   "cell_type": "code",
   "execution_count": null,
   "metadata": {
    "dotnet_interactive": {
     "language": "csharp"
    },
    "polyglot_notebook": {
     "kernelName": "csharp"
    },
    "vscode": {
     "languageId": "polyglot-notebook"
    }
   },
   "outputs": [],
   "source": [
    "Console.WriteLine($\"features: {features[0].cstr()} \\nlabel: {labels[0].cstr()}\");"
   ]
  },
  {
   "cell_type": "code",
   "execution_count": null,
   "metadata": {
    "dotnet_interactive": {
     "language": "csharp"
    },
    "polyglot_notebook": {
     "kernelName": "csharp"
    },
    "vscode": {
     "languageId": "polyglot-notebook"
    }
   },
   "outputs": [],
   "source": [
    "var plot = new Plot();\n",
    "plot.Add.ScatterPoints(features[.., 1], labels.flatten(), size: 3);\n",
    "plot"
   ]
  },
  {
   "cell_type": "markdown",
   "metadata": {},
   "source": [
    "3.2.2. 读取数据集"
   ]
  },
  {
   "cell_type": "code",
   "execution_count": null,
   "metadata": {
    "dotnet_interactive": {
     "language": "csharp"
    },
    "polyglot_notebook": {
     "kernelName": "csharp"
    },
    "vscode": {
     "languageId": "polyglot-notebook"
    }
   },
   "outputs": [],
   "source": [
    "IEnumerable<(torch.Tensor, torch.Tensor)> data_iter(\n",
    "    int batch_size, torch.Tensor features, torch.Tensor labels)\n",
    "{\n",
    "    var num_examples = (int)features.size(0);\n",
    "    var indices = D2l.PythonLike.Range(0, num_examples).ToArray();\n",
    "    Random.Shared.Shuffle(indices);\n",
    "    foreach(var i in D2l.PythonLike.Range(0, num_examples, batch_size))\n",
    "    {\n",
    "        var batch_indices_array = indices[i..Math.Min(i + batch_size, num_examples)];\n",
    "        var batch_indices = torch.TensorIndex.Tensor(batch_indices_array);\n",
    "        yield return (features[batch_indices], labels[batch_indices]);\n",
    "    }\n",
    "}"
   ]
  },
  {
   "cell_type": "markdown",
   "metadata": {},
   "source": [
    "这里我们使用了 `D2l.PythonLike.Range` ，以使其与原文的写法保持一致。为避免产生误导，后续我们会更多地使用 `D2l.PythonLike.Range` 而不是 `Enumerable.Range` ，因为两者参数所表示的意思其实完全不同。"
   ]
  },
  {
   "cell_type": "code",
   "execution_count": null,
   "metadata": {
    "dotnet_interactive": {
     "language": "csharp"
    },
    "polyglot_notebook": {
     "kernelName": "csharp"
    },
    "vscode": {
     "languageId": "polyglot-notebook"
    }
   },
   "outputs": [],
   "source": [
    "var batch_size = 10;\n",
    "\n",
    "foreach (var (X, y) in data_iter(batch_size, features, labels))\n",
    "{\n",
    "    Console.WriteLine($\"{X.cstr()} \\n {y.cstr()}\");\n",
    "    break;\n",
    "}"
   ]
  },
  {
   "cell_type": "markdown",
   "metadata": {},
   "source": [
    "3.2.3. 初始化模型参数"
   ]
  },
  {
   "cell_type": "code",
   "execution_count": null,
   "metadata": {
    "dotnet_interactive": {
     "language": "csharp"
    },
    "polyglot_notebook": {
     "kernelName": "csharp"
    },
    "vscode": {
     "languageId": "polyglot-notebook"
    }
   },
   "outputs": [],
   "source": [
    "var w = torch.normal(0, 0.01, size: [2, 1], requires_grad: true);\n",
    "var b = torch.zeros(1, requires_grad: true);"
   ]
  },
  {
   "cell_type": "markdown",
   "metadata": {},
   "source": [
    "3.2.4. 定义模型"
   ]
  },
  {
   "cell_type": "code",
   "execution_count": null,
   "metadata": {
    "dotnet_interactive": {
     "language": "csharp"
    },
    "polyglot_notebook": {
     "kernelName": "csharp"
    },
    "vscode": {
     "languageId": "polyglot-notebook"
    }
   },
   "outputs": [],
   "source": [
    "torch.Tensor linreg(torch.Tensor X, torch.Tensor w, torch.Tensor b)\n",
    "{\n",
    "    return torch.matmul(X, w) + b;\n",
    "}"
   ]
  },
  {
   "cell_type": "markdown",
   "metadata": {},
   "source": [
    "3.2.5. 定义损失函数"
   ]
  },
  {
   "cell_type": "code",
   "execution_count": null,
   "metadata": {
    "dotnet_interactive": {
     "language": "csharp"
    },
    "polyglot_notebook": {
     "kernelName": "csharp"
    },
    "vscode": {
     "languageId": "polyglot-notebook"
    }
   },
   "outputs": [],
   "source": [
    "torch.Tensor squared_loss(torch.Tensor y_hat, torch.Tensor y)\n",
    "{\n",
    "    return (y_hat - y.reshape(y_hat.shape)).pow(2) / 2;\n",
    "}"
   ]
  },
  {
   "cell_type": "markdown",
   "metadata": {},
   "source": [
    "3.2.6. 定义优化算法"
   ]
  },
  {
   "cell_type": "code",
   "execution_count": null,
   "metadata": {
    "dotnet_interactive": {
     "language": "csharp"
    },
    "polyglot_notebook": {
     "kernelName": "csharp"
    },
    "vscode": {
     "languageId": "polyglot-notebook"
    }
   },
   "outputs": [],
   "source": [
    "void sgd(IEnumerable<torch.Tensor> @params, double lr, int batch_size)\n",
    "{\n",
    "    using (torch.no_grad())\n",
    "    {\n",
    "        foreach (var param in @params)\n",
    "        {\n",
    "            param.sub_(lr * param.grad() / batch_size);\n",
    "            param.grad().zero_();\n",
    "        }\n",
    "    }\n",
    "}"
   ]
  },
  {
   "cell_type": "markdown",
   "metadata": {},
   "source": [
    "3.2.7. 训练"
   ]
  },
  {
   "cell_type": "code",
   "execution_count": null,
   "metadata": {
    "dotnet_interactive": {
     "language": "csharp"
    },
    "polyglot_notebook": {
     "kernelName": "csharp"
    },
    "vscode": {
     "languageId": "polyglot-notebook"
    }
   },
   "outputs": [],
   "source": [
    "var lr = 0.03;\n",
    "var num_epochs = 3;\n",
    "var net = linreg;\n",
    "var loss = squared_loss;\n",
    "\n",
    "foreach (var epoch in D2l.PythonLike.Range(num_epochs))\n",
    "{\n",
    "    using (torch.NewDisposeScope())\n",
    "    {\n",
    "        foreach (var (X, y) in data_iter(batch_size, features, labels))\n",
    "        {\n",
    "            var l = loss(net(X, w, b), y);\n",
    "            l.sum().backward();\n",
    "            sgd([w, b], lr, batch_size);\n",
    "            using (torch.no_grad())\n",
    "            {\n",
    "                var train_l = loss(net(features, w, b), labels);\n",
    "                Console.WriteLine($\"epoch {epoch + 1}, loss {(float)train_l.mean()}\");\n",
    "            }\n",
    "        }\n",
    "    }\n",
    "}"
   ]
  }
 ],
 "metadata": {
  "language_info": {
   "name": "python"
  }
 },
 "nbformat": 4,
 "nbformat_minor": 2
}
