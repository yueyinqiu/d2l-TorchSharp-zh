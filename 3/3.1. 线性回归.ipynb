{
 "cells": [
  {
   "cell_type": "code",
   "execution_count": null,
   "metadata": {
    "dotnet_interactive": {
     "language": "csharp"
    },
    "polyglot_notebook": {
     "kernelName": "csharp"
    },
    "vscode": {
     "languageId": "polyglot-notebook"
    }
   },
   "outputs": [],
   "source": [
    "#r \"nuget: Yueyinqiu.Su.D2lTorchSharp, *-*\"\n",
    "\n",
    "using ScottPlot;\n",
    "using System.Diagnostics;\n",
    "using TorchSharp;\n",
    "using Yueyinqiu.Su.D2lTorchSharp;\n",
    "\n",
    "D2l.Notebook.PrepareAll();"
   ]
  },
  {
   "cell_type": "markdown",
   "metadata": {},
   "source": [
    "3.1.2. 矢量化加速"
   ]
  },
  {
   "cell_type": "code",
   "execution_count": null,
   "metadata": {
    "dotnet_interactive": {
     "language": "csharp"
    },
    "polyglot_notebook": {
     "kernelName": "csharp"
    },
    "vscode": {
     "languageId": "polyglot-notebook"
    }
   },
   "outputs": [],
   "source": [
    "var n = 10000;\n",
    "var a = torch.ones([n]);\n",
    "var b = torch.ones([n]);"
   ]
  },
  {
   "cell_type": "markdown",
   "metadata": {},
   "source": [
    "在 C# 中，我们可以直接使用 `Stopwatch` 进行计时："
   ]
  },
  {
   "cell_type": "code",
   "execution_count": null,
   "metadata": {
    "dotnet_interactive": {
     "language": "csharp"
    },
    "polyglot_notebook": {
     "kernelName": "csharp"
    },
    "vscode": {
     "languageId": "polyglot-notebook"
    }
   },
   "outputs": [],
   "source": [
    "var c = torch.zeros(n);\n",
    "var timer = Stopwatch.StartNew();\n",
    "foreach(var i in Enumerable.Range(0, n))\n",
    "    c[i] = a[i] + b[i];\n",
    "timer.Stop();\n",
    "\n",
    "$\"{(timer.Elapsed.TotalSeconds):0.00000} sec\""
   ]
  },
  {
   "cell_type": "code",
   "execution_count": null,
   "metadata": {
    "dotnet_interactive": {
     "language": "csharp"
    },
    "polyglot_notebook": {
     "kernelName": "csharp"
    },
    "vscode": {
     "languageId": "polyglot-notebook"
    }
   },
   "outputs": [],
   "source": [
    "timer.Restart();\n",
    "var d = a + b;\n",
    "timer.Stop();\n",
    "\n",
    "$\"{(timer.Elapsed.TotalSeconds):0.00000} sec\""
   ]
  },
  {
   "cell_type": "markdown",
   "metadata": {},
   "source": [
    "3.1.3. 正态分布与平方损失"
   ]
  },
  {
   "cell_type": "code",
   "execution_count": null,
   "metadata": {
    "dotnet_interactive": {
     "language": "csharp"
    },
    "polyglot_notebook": {
     "kernelName": "csharp"
    },
    "vscode": {
     "languageId": "polyglot-notebook"
    }
   },
   "outputs": [],
   "source": [
    "torch.Tensor normal(torch.Tensor x, double mu, double sigma)\n",
    "{\n",
    "    var p = 1 / Math.Sqrt(2 * Math.PI * sigma * sigma);\n",
    "    return p * torch.exp(-0.5 / (sigma * sigma) * (x - mu).pow(2));\n",
    "}"
   ]
  },
  {
   "cell_type": "code",
   "execution_count": null,
   "metadata": {
    "dotnet_interactive": {
     "language": "csharp"
    },
    "polyglot_notebook": {
     "kernelName": "csharp"
    },
    "vscode": {
     "languageId": "polyglot-notebook"
    }
   },
   "outputs": [],
   "source": [
    "var x = torch.arange(-7, 7, 0.01);\n",
    "\n",
    "(double, double)[] @params = [(0, 1), (0, 2), (3, 1)];\n",
    "\n",
    "var plot = new Plot();\n",
    "foreach(var (mu, sigma) in @params)\n",
    "    plot.Add.ScatterLine(x, normal(x, mu, sigma), $\"mean {mu}, std {sigma}\");\n",
    "\n",
    "plot.Legend.Alignment = Alignment.UpperLeft;\n",
    "plot.XLabel(\"x\");\n",
    "plot.YLabel(\"p(x)\");\n",
    "\n",
    "plot"
   ]
  }
 ],
 "metadata": {
  "language_info": {
   "name": "python"
  }
 },
 "nbformat": 4,
 "nbformat_minor": 2
}
