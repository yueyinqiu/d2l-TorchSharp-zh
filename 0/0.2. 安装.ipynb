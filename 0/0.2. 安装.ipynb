{
 "cells": [
  {
   "cell_type": "markdown",
   "metadata": {},
   "source": [
    "我们建议使用 Visual Studio Code 的 Polyglot Notebooks 扩展。\n",
    "\n",
    "1. 下载安装 [Visual Studio Code](https://code.visualstudio.com/) ；\n",
    "2. 下载安装[最新版的 .NET SDK](https://dotnet.microsoft.com/download) ；\n",
    "3. 打开 Visual Studio Code ，在其左侧侧边栏中点击相应图标，打开扩展（ Extensions ）菜单；\n",
    "4. 搜索 Polyglot Notebooks ，点击安装（ Install ）按钮；\n",
    "5. 打开任意 `.ipynb` 笔记本文件，比如此文件；\n",
    "6. 在右下角可能会弹出正在安装 .NET Interactive 等提示，等待它自动安装完成。\n",
    "\n",
    "安装完毕后，可运行以下代码，以检查是否可用："
   ]
  },
  {
   "cell_type": "code",
   "execution_count": null,
   "metadata": {
    "dotnet_interactive": {
     "language": "csharp"
    },
    "polyglot_notebook": {
     "kernelName": "csharp"
    },
    "vscode": {
     "languageId": "polyglot-notebook"
    }
   },
   "outputs": [],
   "source": [
    "#r \"nuget: Yueyinqiu.Su.D2lTorchSharp, *-*\"\n",
    "Yueyinqiu.Su.D2lTorchSharp.D2l.HelloWorld.Print();"
   ]
  },
  {
   "cell_type": "markdown",
   "metadata": {},
   "source": [
    "如果确认安装没有问题，但仍不能正常运行，可以尝试以下操作：\n",
    "\n",
    "- 在右上角选择核心（ Kernel ）处手动选择 .NET Interactive\n",
    "- 重启 Visual Studio Code\n",
    "- 重启计算机"
   ]
  }
 ],
 "metadata": {
  "kernelspec": {
   "display_name": ".NET (C#)",
   "language": "C#",
   "name": ".net-csharp"
  },
  "language_info": {
   "name": "python"
  },
  "polyglot_notebook": {
   "kernelInfo": {
    "defaultKernelName": "csharp",
    "items": [
     {
      "aliases": [],
      "name": "csharp"
     }
    ]
   }
  }
 },
 "nbformat": 4,
 "nbformat_minor": 2
}
