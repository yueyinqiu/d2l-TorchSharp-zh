{
 "cells": [
  {
   "cell_type": "markdown",
   "metadata": {},
   "source": [
    "我们建议使用 Visual Studio Code 的 Polyglot Notebooks 扩展。\n",
    "\n",
    "安装完毕后，可运行以下代码，以检查是否可用："
   ]
  },
  {
   "cell_type": "code",
   "execution_count": null,
   "metadata": {
    "dotnet_interactive": {
     "language": "csharp"
    },
    "polyglot_notebook": {
     "kernelName": "csharp"
    },
    "vscode": {
     "languageId": "polyglot-notebook"
    }
   },
   "outputs": [],
   "source": [
    "#r \"nuget: Yueyinqiu.Su.D2lTorchSharp\"\n",
    "Yueyinqiu.Su.D2lTorchSharp.D2lHelloWorld.Print();"
   ]
  }
 ],
 "metadata": {
  "language_info": {
   "name": "python"
  }
 },
 "nbformat": 4,
 "nbformat_minor": 2
}
