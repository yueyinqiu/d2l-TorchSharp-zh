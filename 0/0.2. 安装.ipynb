{
 "cells": [
  {
   "cell_type": "markdown",
   "metadata": {},
   "source": [
    "我们建议使用 Visual Studio Code 的 Polyglot Notebooks 扩展。\n",
    "\n",
    "安装完毕后，可运行以下代码，以检查是否可用："
   ]
  },
  {
   "cell_type": "code",
   "execution_count": 3,
   "metadata": {
    "dotnet_interactive": {
     "language": "csharp"
    },
    "polyglot_notebook": {
     "kernelName": "csharp"
    },
    "vscode": {
     "languageId": "polyglot-notebook"
    }
   },
   "outputs": [
    {
     "data": {
      "text/html": [
       "<div><div><strong>Restore sources</strong><ul><li><span>C:\\Users\\yueyinqiu\\Documents\\MyWorks\\自主项目\\TorchSharp\\d2l-TorchSharp-zh\\0\\D2lTorchSharp\\D2lTorchSharp\\bin\\Release</span></li></ul></div><div></div><div><strong>Installed Packages</strong><ul><li><span>Yueyinqiu.Su.D2lTorchSharp, 1.0.0-0.0.15</span></li></ul></div></div>"
      ]
     },
     "metadata": {},
     "output_type": "display_data"
    },
    {
     "name": "stdout",
     "output_type": "stream",
     "text": [
      "Hello, TorchSharp!\r\n"
     ]
    }
   ],
   "source": [
    "#r \"nuget: Yueyinqiu.Su.D2lTorchSharp, *-*\"\n",
    "Yueyinqiu.Su.D2lTorchSharp.D2l.HelloWorld.Print();"
   ]
  }
 ],
 "metadata": {
  "kernelspec": {
   "display_name": ".NET (C#)",
   "language": "C#",
   "name": ".net-csharp"
  },
  "language_info": {
   "name": "python"
  },
  "polyglot_notebook": {
   "kernelInfo": {
    "defaultKernelName": "csharp",
    "items": [
     {
      "aliases": [],
      "name": "csharp"
     }
    ]
   }
  }
 },
 "nbformat": 4,
 "nbformat_minor": 2
}
