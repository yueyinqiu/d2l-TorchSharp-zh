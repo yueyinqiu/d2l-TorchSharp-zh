{
 "cells": [
  {
   "cell_type": "markdown",
   "metadata": {},
   "source": [
    "对应于原文的 `d2l` 包，我们也相应提供一个 nuget 包，不过其中提供的内容可能并不一致。为避免包名冲突，我们暂时把包名取为 `Yueyinqiu.Su.D2lTorchSharp` 。具体代码就在此目录的 `D2lTorchSharp` 文件夹中。\n",
    "\n",
    "其中已经引用了全部需要用到的包，包括 `TorchSharp-cpu` ，因此不需要额外安装其他任何包。\n",
    "\n",
    "至于如何配置完整的环境，请参见 [0.2 安装](./0.2.%20安装.ipynb)。"
   ]
  }
 ],
 "metadata": {
  "language_info": {
   "name": "python"
  }
 },
 "nbformat": 4,
 "nbformat_minor": 2
}
