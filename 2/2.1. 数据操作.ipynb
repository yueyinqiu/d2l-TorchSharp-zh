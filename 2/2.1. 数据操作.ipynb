{
 "cells": [
  {
   "cell_type": "code",
   "execution_count": 1,
   "metadata": {
    "dotnet_interactive": {
     "language": "csharp"
    },
    "polyglot_notebook": {
     "kernelName": "csharp"
    },
    "vscode": {
     "languageId": "polyglot-notebook"
    }
   },
   "outputs": [
    {
     "data": {
      "text/html": [
       "<div><div></div><div></div><div><strong>Installed Packages</strong><ul><li><span>Yueyinqiu.Su.D2lTorchSharp, 0.0.3</span></li></ul></div></div>"
      ]
     },
     "metadata": {},
     "output_type": "display_data"
    },
    {
     "data": {
      "text/plain": [
       "Loading extensions from `C:\\Users\\yueyinqiu\\.nuget\\packages\\skiasharp\\2.88.6\\interactive-extensions\\dotnet\\SkiaSharp.DotNet.Interactive.dll`"
      ]
     },
     "metadata": {},
     "output_type": "display_data"
    }
   ],
   "source": [
    "#r \"nuget: Yueyinqiu.Su.D2lTorchSharp\""
   ]
  },
  {
   "cell_type": "markdown",
   "metadata": {},
   "source": [
    "2.1.1. 入门"
   ]
  },
  {
   "cell_type": "code",
   "execution_count": 2,
   "metadata": {
    "dotnet_interactive": {
     "language": "csharp"
    },
    "polyglot_notebook": {
     "kernelName": "csharp"
    },
    "vscode": {
     "languageId": "polyglot-notebook"
    }
   },
   "outputs": [],
   "source": [
    "using torch = TorchSharp.torch;"
   ]
  },
  {
   "cell_type": "code",
   "execution_count": 3,
   "metadata": {
    "dotnet_interactive": {
     "language": "csharp"
    },
    "polyglot_notebook": {
     "kernelName": "csharp"
    },
    "vscode": {
     "languageId": "polyglot-notebook"
    }
   },
   "outputs": [
    {
     "data": {
      "text/html": [
       "<div><pre>[12], type = Int64, device = cpu\r\n",
       " 0 1 2 3 4 5 6 7 8 9 10 11\r\n",
       "</pre></div>"
      ]
     },
     "metadata": {},
     "output_type": "display_data"
    }
   ],
   "source": [
    "var x = torch.arange(12);\n",
    "x"
   ]
  },
  {
   "cell_type": "code",
   "execution_count": 4,
   "metadata": {
    "dotnet_interactive": {
     "language": "csharp"
    },
    "polyglot_notebook": {
     "kernelName": "csharp"
    },
    "vscode": {
     "languageId": "polyglot-notebook"
    }
   },
   "outputs": [
    {
     "data": {
      "text/html": [
       "<div class=\"dni-plaintext\"><pre>[ 12 ]</pre></div><style>\r\n",
       ".dni-code-hint {\r\n",
       "    font-style: italic;\r\n",
       "    overflow: hidden;\r\n",
       "    white-space: nowrap;\r\n",
       "}\r\n",
       ".dni-treeview {\r\n",
       "    white-space: nowrap;\r\n",
       "}\r\n",
       ".dni-treeview td {\r\n",
       "    vertical-align: top;\r\n",
       "    text-align: start;\r\n",
       "}\r\n",
       "details.dni-treeview {\r\n",
       "    padding-left: 1em;\r\n",
       "}\r\n",
       "table td {\r\n",
       "    text-align: start;\r\n",
       "}\r\n",
       "table tr { \r\n",
       "    vertical-align: top; \r\n",
       "    margin: 0em 0px;\r\n",
       "}\r\n",
       "table tr td pre \r\n",
       "{ \r\n",
       "    vertical-align: top !important; \r\n",
       "    margin: 0em 0px !important;\r\n",
       "} \r\n",
       "table th {\r\n",
       "    text-align: start;\r\n",
       "}\r\n",
       "</style>"
      ]
     },
     "metadata": {},
     "output_type": "display_data"
    }
   ],
   "source": [
    "x.shape"
   ]
  },
  {
   "cell_type": "code",
   "execution_count": 5,
   "metadata": {
    "dotnet_interactive": {
     "language": "csharp"
    },
    "polyglot_notebook": {
     "kernelName": "csharp"
    },
    "vscode": {
     "languageId": "polyglot-notebook"
    }
   },
   "outputs": [
    {
     "data": {
      "text/html": [
       "<div class=\"dni-plaintext\"><pre>12</pre></div><style>\r\n",
       ".dni-code-hint {\r\n",
       "    font-style: italic;\r\n",
       "    overflow: hidden;\r\n",
       "    white-space: nowrap;\r\n",
       "}\r\n",
       ".dni-treeview {\r\n",
       "    white-space: nowrap;\r\n",
       "}\r\n",
       ".dni-treeview td {\r\n",
       "    vertical-align: top;\r\n",
       "    text-align: start;\r\n",
       "}\r\n",
       "details.dni-treeview {\r\n",
       "    padding-left: 1em;\r\n",
       "}\r\n",
       "table td {\r\n",
       "    text-align: start;\r\n",
       "}\r\n",
       "table tr { \r\n",
       "    vertical-align: top; \r\n",
       "    margin: 0em 0px;\r\n",
       "}\r\n",
       "table tr td pre \r\n",
       "{ \r\n",
       "    vertical-align: top !important; \r\n",
       "    margin: 0em 0px !important;\r\n",
       "} \r\n",
       "table th {\r\n",
       "    text-align: start;\r\n",
       "}\r\n",
       "</style>"
      ]
     },
     "metadata": {},
     "output_type": "display_data"
    }
   ],
   "source": [
    "x.numel()"
   ]
  },
  {
   "cell_type": "code",
   "execution_count": 6,
   "metadata": {
    "dotnet_interactive": {
     "language": "csharp"
    },
    "polyglot_notebook": {
     "kernelName": "csharp"
    },
    "vscode": {
     "languageId": "polyglot-notebook"
    }
   },
   "outputs": [
    {
     "data": {
      "text/html": [
       "<div><pre>[3x4], type = Int64, device = cpu\r\n",
       " 0 1  2  3\r\n",
       " 4 5  6  7\r\n",
       " 8 9 10 11\r\n",
       "</pre></div>"
      ]
     },
     "metadata": {},
     "output_type": "display_data"
    }
   ],
   "source": [
    "var X = x.reshape(3, 4);\n",
    "X"
   ]
  },
  {
   "cell_type": "code",
   "execution_count": 7,
   "metadata": {
    "dotnet_interactive": {
     "language": "csharp"
    },
    "polyglot_notebook": {
     "kernelName": "csharp"
    },
    "vscode": {
     "languageId": "polyglot-notebook"
    }
   },
   "outputs": [
    {
     "data": {
      "text/html": [
       "<div><pre>[2x3x4], type = Float32, device = cpu\r\n",
       "[0,..,..] =\r\n",
       " 0 0 0 0\r\n",
       " 0 0 0 0\r\n",
       " 0 0 0 0\r\n",
       "\r\n",
       "[1,..,..] =\r\n",
       " 0 0 0 0\r\n",
       " 0 0 0 0\r\n",
       " 0 0 0 0\r\n",
       "</pre></div>"
      ]
     },
     "metadata": {},
     "output_type": "display_data"
    }
   ],
   "source": [
    "torch.zeros([2, 3, 4])"
   ]
  },
  {
   "cell_type": "code",
   "execution_count": 8,
   "metadata": {
    "dotnet_interactive": {
     "language": "csharp"
    },
    "polyglot_notebook": {
     "kernelName": "csharp"
    },
    "vscode": {
     "languageId": "polyglot-notebook"
    }
   },
   "outputs": [
    {
     "data": {
      "text/html": [
       "<div><pre>[2x3x4], type = Float32, device = cpu\r\n",
       "[0,..,..] =\r\n",
       " 1 1 1 1\r\n",
       " 1 1 1 1\r\n",
       " 1 1 1 1\r\n",
       "\r\n",
       "[1,..,..] =\r\n",
       " 1 1 1 1\r\n",
       " 1 1 1 1\r\n",
       " 1 1 1 1\r\n",
       "</pre></div>"
      ]
     },
     "metadata": {},
     "output_type": "display_data"
    }
   ],
   "source": [
    "torch.ones([2, 3, 4])"
   ]
  },
  {
   "cell_type": "code",
   "execution_count": 9,
   "metadata": {
    "dotnet_interactive": {
     "language": "csharp"
    },
    "polyglot_notebook": {
     "kernelName": "csharp"
    },
    "vscode": {
     "languageId": "polyglot-notebook"
    }
   },
   "outputs": [
    {
     "data": {
      "text/html": [
       "<div><pre>[3x4], type = Float32, device = cpu\r\n",
       " 0.31395  -1.6062 -0.50749 -0.52655\r\n",
       " 0.39413 -0.10017   0.5017   1.3473\r\n",
       "  1.3378   2.0871   -0.331   0.2032\r\n",
       "</pre></div>"
      ]
     },
     "metadata": {},
     "output_type": "display_data"
    }
   ],
   "source": [
    "torch.randn(3, 4)"
   ]
  },
  {
   "cell_type": "code",
   "execution_count": 10,
   "metadata": {
    "dotnet_interactive": {
     "language": "csharp"
    },
    "polyglot_notebook": {
     "kernelName": "csharp"
    },
    "vscode": {
     "languageId": "polyglot-notebook"
    }
   },
   "outputs": [
    {
     "data": {
      "text/html": [
       "<div><pre>[3x4], type = Int64, device = cpu\r\n",
       " 2 1 4 3\r\n",
       " 1 2 3 4\r\n",
       " 4 3 2 1\r\n",
       "</pre></div>"
      ]
     },
     "metadata": {},
     "output_type": "display_data"
    }
   ],
   "source": [
    "torch.tensor(new long[,] {{ 2, 1, 4, 3 }, { 1, 2, 3, 4 }, { 4, 3, 2, 1 }})"
   ]
  },
  {
   "cell_type": "markdown",
   "metadata": {},
   "source": [
    "2.1.2. 运算符"
   ]
  },
  {
   "cell_type": "code",
   "execution_count": 11,
   "metadata": {
    "dotnet_interactive": {
     "language": "csharp"
    },
    "polyglot_notebook": {
     "kernelName": "csharp"
    },
    "vscode": {
     "languageId": "polyglot-notebook"
    }
   },
   "outputs": [
    {
     "data": {
      "text/html": [
       "<details open=\"open\" class=\"dni-treeview\"><summary><span class=\"dni-code-hint\"><code>([4], type = Float64, device = cpu, [4], type = Float64, device = cpu, [4], type = Float64, device = cpu, [4], type = Float64, device = cpu, [4], type = Float64, device = cpu)</code></span></summary><div><table><thead><tr></tr></thead><tbody><tr><td>Item1</td><td><div><pre>[4], type = Float64, device = cpu\r\n",
       " 3 4 6 10\r\n",
       "</pre></div></td></tr><tr><td>Item2</td><td><div><pre>[4], type = Float64, device = cpu\r\n",
       " -1 0 2 6\r\n",
       "</pre></div></td></tr><tr><td>Item3</td><td><div><pre>[4], type = Float64, device = cpu\r\n",
       " 2 4 8 16\r\n",
       "</pre></div></td></tr><tr><td>Item4</td><td><div><pre>[4], type = Float64, device = cpu\r\n",
       " 0.5 1 2 4\r\n",
       "</pre></div></td></tr><tr><td>Item5</td><td><div><pre>[4], type = Float64, device = cpu\r\n",
       " 1 4 16 64\r\n",
       "</pre></div></td></tr></tbody></table></div></details><style>\r\n",
       ".dni-code-hint {\r\n",
       "    font-style: italic;\r\n",
       "    overflow: hidden;\r\n",
       "    white-space: nowrap;\r\n",
       "}\r\n",
       ".dni-treeview {\r\n",
       "    white-space: nowrap;\r\n",
       "}\r\n",
       ".dni-treeview td {\r\n",
       "    vertical-align: top;\r\n",
       "    text-align: start;\r\n",
       "}\r\n",
       "details.dni-treeview {\r\n",
       "    padding-left: 1em;\r\n",
       "}\r\n",
       "table td {\r\n",
       "    text-align: start;\r\n",
       "}\r\n",
       "table tr { \r\n",
       "    vertical-align: top; \r\n",
       "    margin: 0em 0px;\r\n",
       "}\r\n",
       "table tr td pre \r\n",
       "{ \r\n",
       "    vertical-align: top !important; \r\n",
       "    margin: 0em 0px !important;\r\n",
       "} \r\n",
       "table th {\r\n",
       "    text-align: start;\r\n",
       "}\r\n",
       "</style>"
      ]
     },
     "metadata": {},
     "output_type": "display_data"
    }
   ],
   "source": [
    "var x = torch.tensor(new double[] { 1.0, 2, 4, 8 });\n",
    "var y = torch.tensor(new long[] { 2, 2, 2, 2 });\n",
    "(x + y, x - y, x * y, x / y, torch.pow(x, y))"
   ]
  },
  {
   "cell_type": "code",
   "execution_count": 12,
   "metadata": {
    "dotnet_interactive": {
     "language": "csharp"
    },
    "polyglot_notebook": {
     "kernelName": "csharp"
    },
    "vscode": {
     "languageId": "polyglot-notebook"
    }
   },
   "outputs": [
    {
     "data": {
      "text/html": [
       "<div><pre>[4], type = Float64, device = cpu\r\n",
       " 2.7183 7.3891 54.598 2981\r\n",
       "</pre></div>"
      ]
     },
     "metadata": {},
     "output_type": "display_data"
    }
   ],
   "source": [
    "torch.exp(x)"
   ]
  },
  {
   "cell_type": "code",
   "execution_count": 13,
   "metadata": {
    "dotnet_interactive": {
     "language": "csharp"
    },
    "polyglot_notebook": {
     "kernelName": "csharp"
    },
    "vscode": {
     "languageId": "polyglot-notebook"
    }
   },
   "outputs": [
    {
     "data": {
      "text/html": [
       "<details open=\"open\" class=\"dni-treeview\"><summary><span class=\"dni-code-hint\"><code>([6x4], type = Float64, device = cpu, [3x8], type = Float64, device = cpu)</code></span></summary><div><table><thead><tr></tr></thead><tbody><tr><td>Item1</td><td><div><pre>[6x4], type = Float64, device = cpu\r\n",
       " 0 1  2  3\r\n",
       " 4 5  6  7\r\n",
       " 8 9 10 11\r\n",
       " 2 1  4  3\r\n",
       " 1 2  3  4\r\n",
       " 4 3  2  1\r\n",
       "</pre></div></td></tr><tr><td>Item2</td><td><div><pre>[3x8], type = Float64, device = cpu\r\n",
       " 0 1  2  3 2 1 4 3\r\n",
       " 4 5  6  7 1 2 3 4\r\n",
       " 8 9 10 11 4 3 2 1\r\n",
       "</pre></div></td></tr></tbody></table></div></details><style>\r\n",
       ".dni-code-hint {\r\n",
       "    font-style: italic;\r\n",
       "    overflow: hidden;\r\n",
       "    white-space: nowrap;\r\n",
       "}\r\n",
       ".dni-treeview {\r\n",
       "    white-space: nowrap;\r\n",
       "}\r\n",
       ".dni-treeview td {\r\n",
       "    vertical-align: top;\r\n",
       "    text-align: start;\r\n",
       "}\r\n",
       "details.dni-treeview {\r\n",
       "    padding-left: 1em;\r\n",
       "}\r\n",
       "table td {\r\n",
       "    text-align: start;\r\n",
       "}\r\n",
       "table tr { \r\n",
       "    vertical-align: top; \r\n",
       "    margin: 0em 0px;\r\n",
       "}\r\n",
       "table tr td pre \r\n",
       "{ \r\n",
       "    vertical-align: top !important; \r\n",
       "    margin: 0em 0px !important;\r\n",
       "} \r\n",
       "table th {\r\n",
       "    text-align: start;\r\n",
       "}\r\n",
       "</style>"
      ]
     },
     "metadata": {},
     "output_type": "display_data"
    }
   ],
   "source": [
    "var X = torch.arange(12, dtype: torch.float32).reshape([3, 4]);\n",
    "var Y = torch.tensor(new double[,] {{ 2.0, 1, 4, 3 }, { 1, 2, 3, 4 }, { 4, 3, 2, 1 }});\n",
    "(torch.cat([X, Y], dim: 0), torch.cat([X, Y], dim: 1))"
   ]
  },
  {
   "cell_type": "code",
   "execution_count": 14,
   "metadata": {
    "dotnet_interactive": {
     "language": "csharp"
    },
    "polyglot_notebook": {
     "kernelName": "csharp"
    },
    "vscode": {
     "languageId": "polyglot-notebook"
    }
   },
   "outputs": [
    {
     "data": {
      "text/html": [
       "<div><pre>[3x4], type = Bool, device = cpu\r\n",
       " False  True False  True\r\n",
       " False False False False\r\n",
       " False False False False\r\n",
       "</pre></div>"
      ]
     },
     "metadata": {},
     "output_type": "display_data"
    }
   ],
   "source": [
    "X == Y"
   ]
  },
  {
   "cell_type": "code",
   "execution_count": 15,
   "metadata": {
    "dotnet_interactive": {
     "language": "csharp"
    },
    "polyglot_notebook": {
     "kernelName": "csharp"
    },
    "vscode": {
     "languageId": "polyglot-notebook"
    }
   },
   "outputs": [
    {
     "data": {
      "text/html": [
       "<div><pre>[], type = Float32, device = cpu, value = 66</pre></div>"
      ]
     },
     "metadata": {},
     "output_type": "display_data"
    }
   ],
   "source": [
    "X.sum()"
   ]
  },
  {
   "cell_type": "markdown",
   "metadata": {},
   "source": [
    "2.1.3. 广播机制"
   ]
  },
  {
   "cell_type": "code",
   "execution_count": 16,
   "metadata": {
    "dotnet_interactive": {
     "language": "csharp"
    },
    "polyglot_notebook": {
     "kernelName": "csharp"
    },
    "vscode": {
     "languageId": "polyglot-notebook"
    }
   },
   "outputs": [
    {
     "data": {
      "text/html": [
       "<details open=\"open\" class=\"dni-treeview\"><summary><span class=\"dni-code-hint\"><code>([3x1], type = Int64, device = cpu, [1x2], type = Int64, device = cpu)</code></span></summary><div><table><thead><tr></tr></thead><tbody><tr><td>Item1</td><td><div><pre>[3x1], type = Int64, device = cpu\r\n",
       " 0\r\n",
       " 1\r\n",
       " 2\r\n",
       "</pre></div></td></tr><tr><td>Item2</td><td><div><pre>[1x2], type = Int64, device = cpu\r\n",
       " 0 1\r\n",
       "</pre></div></td></tr></tbody></table></div></details><style>\r\n",
       ".dni-code-hint {\r\n",
       "    font-style: italic;\r\n",
       "    overflow: hidden;\r\n",
       "    white-space: nowrap;\r\n",
       "}\r\n",
       ".dni-treeview {\r\n",
       "    white-space: nowrap;\r\n",
       "}\r\n",
       ".dni-treeview td {\r\n",
       "    vertical-align: top;\r\n",
       "    text-align: start;\r\n",
       "}\r\n",
       "details.dni-treeview {\r\n",
       "    padding-left: 1em;\r\n",
       "}\r\n",
       "table td {\r\n",
       "    text-align: start;\r\n",
       "}\r\n",
       "table tr { \r\n",
       "    vertical-align: top; \r\n",
       "    margin: 0em 0px;\r\n",
       "}\r\n",
       "table tr td pre \r\n",
       "{ \r\n",
       "    vertical-align: top !important; \r\n",
       "    margin: 0em 0px !important;\r\n",
       "} \r\n",
       "table th {\r\n",
       "    text-align: start;\r\n",
       "}\r\n",
       "</style>"
      ]
     },
     "metadata": {},
     "output_type": "display_data"
    }
   ],
   "source": [
    "var a = torch.arange(3).reshape([3, 1]);\n",
    "var b = torch.arange(2).reshape([1, 2]);\n",
    "(a, b)"
   ]
  },
  {
   "cell_type": "code",
   "execution_count": 17,
   "metadata": {
    "dotnet_interactive": {
     "language": "csharp"
    },
    "polyglot_notebook": {
     "kernelName": "csharp"
    },
    "vscode": {
     "languageId": "polyglot-notebook"
    }
   },
   "outputs": [
    {
     "data": {
      "text/html": [
       "<div><pre>[3x2], type = Int64, device = cpu\r\n",
       " 0 1\r\n",
       " 1 2\r\n",
       " 2 3\r\n",
       "</pre></div>"
      ]
     },
     "metadata": {},
     "output_type": "display_data"
    }
   ],
   "source": [
    "a + b"
   ]
  },
  {
   "cell_type": "markdown",
   "metadata": {},
   "source": [
    "2.1.4. 索引和切片"
   ]
  },
  {
   "cell_type": "code",
   "execution_count": 18,
   "metadata": {
    "dotnet_interactive": {
     "language": "csharp"
    },
    "polyglot_notebook": {
     "kernelName": "csharp"
    },
    "vscode": {
     "languageId": "polyglot-notebook"
    }
   },
   "outputs": [
    {
     "data": {
      "text/html": [
       "<details open=\"open\" class=\"dni-treeview\"><summary><span class=\"dni-code-hint\"><code>([4], type = Float32, device = cpu, [2x4], type = Float32, device = cpu)</code></span></summary><div><table><thead><tr></tr></thead><tbody><tr><td>Item1</td><td><div><pre>[4], type = Float32, device = cpu\r\n",
       " 8 9 10 11\r\n",
       "</pre></div></td></tr><tr><td>Item2</td><td><div><pre>[2x4], type = Float32, device = cpu\r\n",
       " 4 5  6  7\r\n",
       " 8 9 10 11\r\n",
       "</pre></div></td></tr></tbody></table></div></details><style>\r\n",
       ".dni-code-hint {\r\n",
       "    font-style: italic;\r\n",
       "    overflow: hidden;\r\n",
       "    white-space: nowrap;\r\n",
       "}\r\n",
       ".dni-treeview {\r\n",
       "    white-space: nowrap;\r\n",
       "}\r\n",
       ".dni-treeview td {\r\n",
       "    vertical-align: top;\r\n",
       "    text-align: start;\r\n",
       "}\r\n",
       "details.dni-treeview {\r\n",
       "    padding-left: 1em;\r\n",
       "}\r\n",
       "table td {\r\n",
       "    text-align: start;\r\n",
       "}\r\n",
       "table tr { \r\n",
       "    vertical-align: top; \r\n",
       "    margin: 0em 0px;\r\n",
       "}\r\n",
       "table tr td pre \r\n",
       "{ \r\n",
       "    vertical-align: top !important; \r\n",
       "    margin: 0em 0px !important;\r\n",
       "} \r\n",
       "table th {\r\n",
       "    text-align: start;\r\n",
       "}\r\n",
       "</style>"
      ]
     },
     "metadata": {},
     "output_type": "display_data"
    }
   ],
   "source": [
    "(X[-1], X[1..3])"
   ]
  },
  {
   "cell_type": "code",
   "execution_count": 19,
   "metadata": {
    "dotnet_interactive": {
     "language": "csharp"
    },
    "polyglot_notebook": {
     "kernelName": "csharp"
    },
    "vscode": {
     "languageId": "polyglot-notebook"
    }
   },
   "outputs": [
    {
     "data": {
      "text/html": [
       "<div><pre>[3x4], type = Float32, device = cpu\r\n",
       " 0 1  2  3\r\n",
       " 4 5  9  7\r\n",
       " 8 9 10 11\r\n",
       "</pre></div>"
      ]
     },
     "metadata": {},
     "output_type": "display_data"
    }
   ],
   "source": [
    "X[1, 2] = 9;\n",
    "X"
   ]
  },
  {
   "cell_type": "code",
   "execution_count": 20,
   "metadata": {
    "dotnet_interactive": {
     "language": "csharp"
    },
    "polyglot_notebook": {
     "kernelName": "csharp"
    },
    "vscode": {
     "languageId": "polyglot-notebook"
    }
   },
   "outputs": [
    {
     "data": {
      "text/html": [
       "<div><pre>[3x4], type = Float32, device = cpu\r\n",
       " 12 12 12 12\r\n",
       " 12 12 12 12\r\n",
       "  8  9 10 11\r\n",
       "</pre></div>"
      ]
     },
     "metadata": {},
     "output_type": "display_data"
    }
   ],
   "source": [
    "X[0..2, ..] = 12;\n",
    "X"
   ]
  },
  {
   "cell_type": "markdown",
   "metadata": {},
   "source": [
    "2.1.5. 节省内存\n",
    "\n",
    "与 Python 不同， C# 不能单独自定义 `+=` 运算。这意味着以下两种做法在 TorchSharp 中不可能有任何区别："
   ]
  },
  {
   "cell_type": "code",
   "execution_count": 21,
   "metadata": {
    "dotnet_interactive": {
     "language": "csharp"
    },
    "polyglot_notebook": {
     "kernelName": "csharp"
    },
    "vscode": {
     "languageId": "polyglot-notebook"
    }
   },
   "outputs": [
    {
     "data": {
      "text/html": [
       "<div class=\"dni-plaintext\"><pre>False</pre></div><style>\r\n",
       ".dni-code-hint {\r\n",
       "    font-style: italic;\r\n",
       "    overflow: hidden;\r\n",
       "    white-space: nowrap;\r\n",
       "}\r\n",
       ".dni-treeview {\r\n",
       "    white-space: nowrap;\r\n",
       "}\r\n",
       ".dni-treeview td {\r\n",
       "    vertical-align: top;\r\n",
       "    text-align: start;\r\n",
       "}\r\n",
       "details.dni-treeview {\r\n",
       "    padding-left: 1em;\r\n",
       "}\r\n",
       "table td {\r\n",
       "    text-align: start;\r\n",
       "}\r\n",
       "table tr { \r\n",
       "    vertical-align: top; \r\n",
       "    margin: 0em 0px;\r\n",
       "}\r\n",
       "table tr td pre \r\n",
       "{ \r\n",
       "    vertical-align: top !important; \r\n",
       "    margin: 0em 0px !important;\r\n",
       "} \r\n",
       "table th {\r\n",
       "    text-align: start;\r\n",
       "}\r\n",
       "</style>"
      ]
     },
     "metadata": {},
     "output_type": "display_data"
    }
   ],
   "source": [
    "var before = Y;\n",
    "Y = Y + X;\n",
    "object.ReferenceEquals(before, Y)"
   ]
  },
  {
   "cell_type": "code",
   "execution_count": 22,
   "metadata": {
    "dotnet_interactive": {
     "language": "csharp"
    },
    "polyglot_notebook": {
     "kernelName": "csharp"
    },
    "vscode": {
     "languageId": "polyglot-notebook"
    }
   },
   "outputs": [
    {
     "data": {
      "text/html": [
       "<div class=\"dni-plaintext\"><pre>False</pre></div><style>\r\n",
       ".dni-code-hint {\r\n",
       "    font-style: italic;\r\n",
       "    overflow: hidden;\r\n",
       "    white-space: nowrap;\r\n",
       "}\r\n",
       ".dni-treeview {\r\n",
       "    white-space: nowrap;\r\n",
       "}\r\n",
       ".dni-treeview td {\r\n",
       "    vertical-align: top;\r\n",
       "    text-align: start;\r\n",
       "}\r\n",
       "details.dni-treeview {\r\n",
       "    padding-left: 1em;\r\n",
       "}\r\n",
       "table td {\r\n",
       "    text-align: start;\r\n",
       "}\r\n",
       "table tr { \r\n",
       "    vertical-align: top; \r\n",
       "    margin: 0em 0px;\r\n",
       "}\r\n",
       "table tr td pre \r\n",
       "{ \r\n",
       "    vertical-align: top !important; \r\n",
       "    margin: 0em 0px !important;\r\n",
       "} \r\n",
       "table th {\r\n",
       "    text-align: start;\r\n",
       "}\r\n",
       "</style>"
      ]
     },
     "metadata": {},
     "output_type": "display_data"
    }
   ],
   "source": [
    "var before = Y;\n",
    "Y += X;\n",
    "object.ReferenceEquals(before, Y)"
   ]
  },
  {
   "cell_type": "markdown",
   "metadata": {},
   "source": [
    "当然，切片是可以使用的："
   ]
  },
  {
   "cell_type": "code",
   "execution_count": 23,
   "metadata": {
    "dotnet_interactive": {
     "language": "csharp"
    },
    "polyglot_notebook": {
     "kernelName": "csharp"
    },
    "vscode": {
     "languageId": "polyglot-notebook"
    }
   },
   "outputs": [
    {
     "data": {
      "text/html": [
       "<div class=\"dni-plaintext\"><pre>True</pre></div><style>\r\n",
       ".dni-code-hint {\r\n",
       "    font-style: italic;\r\n",
       "    overflow: hidden;\r\n",
       "    white-space: nowrap;\r\n",
       "}\r\n",
       ".dni-treeview {\r\n",
       "    white-space: nowrap;\r\n",
       "}\r\n",
       ".dni-treeview td {\r\n",
       "    vertical-align: top;\r\n",
       "    text-align: start;\r\n",
       "}\r\n",
       "details.dni-treeview {\r\n",
       "    padding-left: 1em;\r\n",
       "}\r\n",
       "table td {\r\n",
       "    text-align: start;\r\n",
       "}\r\n",
       "table tr { \r\n",
       "    vertical-align: top; \r\n",
       "    margin: 0em 0px;\r\n",
       "}\r\n",
       "table tr td pre \r\n",
       "{ \r\n",
       "    vertical-align: top !important; \r\n",
       "    margin: 0em 0px !important;\r\n",
       "} \r\n",
       "table th {\r\n",
       "    text-align: start;\r\n",
       "}\r\n",
       "</style>"
      ]
     },
     "metadata": {},
     "output_type": "display_data"
    }
   ],
   "source": [
    "var Z = torch.zeros_like(Y);\n",
    "var before = Z;\n",
    "Z[..] = X + Y;\n",
    "object.ReferenceEquals(before, Z)"
   ]
  },
  {
   "cell_type": "markdown",
   "metadata": {},
   "source": [
    "此外，与 PyTorch 不同，在 TorchSharp 中，我们需要额外地关心内存、显存的使用问题，其提供三种主要的[内存管理](https://github.com/dotnet/TorchSharp/wiki/Memory-Management)方式。\n",
    "\n",
    "第一种方案是依赖 `Tensor` 类型的析构函数，其中会自动释放底层的 LibTorch 张量。这种方式胜在简单，即不用编写任何额外的代码。但由于析构函数是在垃圾回收时触发的，而在内存占用不高时，即使显存占用很高也不一定会触发垃圾回收，导致相关张量始终得不到释放，最终显存溢出。\n",
    "\n",
    "第二种方案是手动调用张量的 `Dispose` 方法，或者使用 `using` 语句。这种方法看起来美好，但实际用起来非常繁琐。举例而言，仅仅是计算 `p = m + n + o;` ，为正确释放 `m + n` 的结果，必须改用 `using var temp = m + n; p = temp + o;` 。而这种情况常常大量出现在我们的代码中，因此这种方案并没有想象中那么漂亮。\n",
    "\n",
    "因此我们有第三种方案，即 `torch.NewDisposeScope` 。在 `Tensor` 对象被创建时，会自动注册到其附近的 `DisposeScope` ，并随着 `DisposeScope` 的释放一同释放。通常我们会使用 `DisposeScope` 包裹一个小批量的训练过程，从而释放这一轮计算中得到的所有张量（因为下一轮开始就不会再用到它们了）。由于 `DisposeScope` 是 TorchSharp 额外提供的功能，或许我们需要通过一些例子来说明它：\n"
   ]
  },
  {
   "cell_type": "code",
   "execution_count": 24,
   "metadata": {
    "dotnet_interactive": {
     "language": "csharp"
    },
    "polyglot_notebook": {
     "kernelName": "csharp"
    },
    "vscode": {
     "languageId": "polyglot-notebook"
    }
   },
   "outputs": [
    {
     "name": "stdout",
     "output_type": "stream",
     "text": [
      "6\n",
      "Tensor invalid -- empty handle.\n"
     ]
    }
   ],
   "source": [
    "var disposeScope = torch.NewDisposeScope();\n",
    "\n",
    "var m = torch.zeros([]) + 1;\n",
    "var n = torch.zeros([]) + 2;\n",
    "var l = torch.zeros([]) + 3;\n",
    "var p = m + n + l;\n",
    "Console.WriteLine((double)p);\n",
    "\n",
    "disposeScope.Dispose();\n",
    "\n",
    "try\n",
    "{\n",
    "    Console.WriteLine((double)p);\n",
    "}\n",
    "catch (Exception ex)\n",
    "{ \n",
    "    Console.WriteLine(ex.Message);\n",
    "}"
   ]
  },
  {
   "cell_type": "markdown",
   "metadata": {},
   "source": [
    "当然，事实上我们会使用 `using` 而不是手动调用 `disposeScope.Dispose` 。\n",
    "\n",
    "由于在 `DisposeScope` 中创建的张量都会随着它一同释放，因此当我们需要某个张量作为函数返回值的时候，可能需要把它移出函数内的 `DisposeScope` ，下面是一个相关的示例："
   ]
  },
  {
   "cell_type": "code",
   "execution_count": 25,
   "metadata": {
    "dotnet_interactive": {
     "language": "csharp"
    },
    "polyglot_notebook": {
     "kernelName": "csharp"
    },
    "vscode": {
     "languageId": "polyglot-notebook"
    }
   },
   "outputs": [
    {
     "name": "stdout",
     "output_type": "stream",
     "text": [
      "6\r\n"
     ]
    }
   ],
   "source": [
    "torch.Tensor MyTensorSum(torch.Tensor m, torch.Tensor n, torch.Tensor o)\n",
    "{\n",
    "    using (torch.NewDisposeScope())\n",
    "    {\n",
    "        var p = m + n + o;\n",
    "        return p.MoveToOuterDisposeScope();\n",
    "    }\n",
    "    // 只有中间值 m + n 会在这里被释放。\n",
    "    // m 、 n 、 o 都是在外界创建的，与此 DisposeScope 无关。\n",
    "    // 而 p 已被移动到更外层的 DisposeScope （此处没有更外层，即最终它不关联任何 DisposeScope ）。\n",
    "}\n",
    "\n",
    "var m = torch.zeros([]) + 1;\n",
    "var n = torch.zeros([]) + 2;\n",
    "var l = torch.zeros([]) + 3;\n",
    "var p = MyTensorSum(m, n, l);\n",
    "Console.WriteLine((double)p);"
   ]
  },
  {
   "cell_type": "markdown",
   "metadata": {},
   "source": [
    "有的时候，我们希望一个函数返回某个参数本身，但是外界可能误把原本的张量释放了（特别是当这个张量关联了某个 `DisposeScope` 时），导致返回值也同时被释放。为避免此问题，建议不要返回原本的对象，而是使用 `alias` 方法在 TorchSharp 层面创建一个新的 `Tensor` 对象。这两个张量在底层引用同一个 LibTorch 张量，只有两者都被释放后才会真正释放 LibTorch 张量。例如："
   ]
  },
  {
   "cell_type": "code",
   "execution_count": 26,
   "metadata": {
    "dotnet_interactive": {
     "language": "csharp"
    },
    "polyglot_notebook": {
     "kernelName": "csharp"
    },
    "vscode": {
     "languageId": "polyglot-notebook"
    }
   },
   "outputs": [
    {
     "name": "stdout",
     "output_type": "stream",
     "text": [
      "123\r\n"
     ]
    }
   ],
   "source": [
    "torch.Tensor MyFunction(torch.Tensor tensor)\n",
    "{\n",
    "    return tensor.alias();\n",
    "}\n",
    "\n",
    "torch.Tensor p;\n",
    "using (var m = torch.zeros([]) + 123)\n",
    "    p = MyFunction(m);\n",
    "// 此时 m 已被释放，而 p 仍可用。\n",
    "Console.WriteLine((double)p);"
   ]
  },
  {
   "cell_type": "markdown",
   "metadata": {},
   "source": [
    "2.1.6. 转换为其他Python对象\n",
    "\n",
    "将张量转换为 C# 数组是相对复杂的，因为要处理它的形状等问题。目前尚无直接转换为类似 `double[,]` 等数组的方案，但可以使用 `data` 获取张量元素的访问器，或者使用 `tolist` 转为由 `Tensor` 构成的 `ArrayList` 。这个 [Issue](https://github.com/dotnet/TorchSharp/issues/1287) 在讨论是否要加入更直接的方案。由于我们后面也并不会用到相关操作，此处就不提供相关内容了。\n",
    "\n",
    "当然，从数组创建张量是简单的："
   ]
  },
  {
   "cell_type": "code",
   "execution_count": 28,
   "metadata": {
    "dotnet_interactive": {
     "language": "csharp"
    },
    "polyglot_notebook": {
     "kernelName": "csharp"
    },
    "vscode": {
     "languageId": "polyglot-notebook"
    }
   },
   "outputs": [
    {
     "data": {
      "text/html": [
       "<details open=\"open\" class=\"dni-treeview\"><summary><span class=\"dni-code-hint\"><code>([3x4], type = Float32, device = cpu, [12], type = Float32, device = cpu)</code></span></summary><div><table><thead><tr></tr></thead><tbody><tr><td>Item1</td><td><div><pre>[3x4], type = Float32, device = cpu\r\n",
       " 12 12 12 12\r\n",
       " 12 12 12 12\r\n",
       "  8  9 10 11\r\n",
       "</pre></div></td></tr><tr><td>Item2</td><td><div><pre>[12], type = Float32, device = cpu\r\n",
       " 12 12 12 12 12 12 12 12 8 9 10 11\r\n",
       "</pre></div></td></tr></tbody></table></div></details><style>\r\n",
       ".dni-code-hint {\r\n",
       "    font-style: italic;\r\n",
       "    overflow: hidden;\r\n",
       "    white-space: nowrap;\r\n",
       "}\r\n",
       ".dni-treeview {\r\n",
       "    white-space: nowrap;\r\n",
       "}\r\n",
       ".dni-treeview td {\r\n",
       "    vertical-align: top;\r\n",
       "    text-align: start;\r\n",
       "}\r\n",
       "details.dni-treeview {\r\n",
       "    padding-left: 1em;\r\n",
       "}\r\n",
       "table td {\r\n",
       "    text-align: start;\r\n",
       "}\r\n",
       "table tr { \r\n",
       "    vertical-align: top; \r\n",
       "    margin: 0em 0px;\r\n",
       "}\r\n",
       "table tr td pre \r\n",
       "{ \r\n",
       "    vertical-align: top !important; \r\n",
       "    margin: 0em 0px !important;\r\n",
       "} \r\n",
       "table th {\r\n",
       "    text-align: start;\r\n",
       "}\r\n",
       "</style>"
      ]
     },
     "metadata": {},
     "output_type": "display_data"
    }
   ],
   "source": [
    "var B = torch.tensor(X.data<float>().ToArray());\n",
    "(X, B)"
   ]
  },
  {
   "cell_type": "markdown",
   "metadata": {},
   "source": [
    "可以使用 `item` 方法、强制转换，或者相关扩展方法转换标量："
   ]
  },
  {
   "cell_type": "code",
   "execution_count": 34,
   "metadata": {
    "vscode": {
     "languageId": "polyglot-notebook"
    }
   },
   "outputs": [
    {
     "data": {
      "text/html": [
       "<details open=\"open\" class=\"dni-treeview\"><summary><span class=\"dni-code-hint\"><code>([1], type = Float64, device = cpu, 3.5, 3.5, 3)</code></span></summary><div><table><thead><tr></tr></thead><tbody><tr><td>Item1</td><td><div><pre>[1], type = Float64, device = cpu\r\n",
       " 3.5\r\n",
       "</pre></div></td></tr><tr><td>Item2</td><td><div class=\"dni-plaintext\"><pre>3.5</pre></div></td></tr><tr><td>Item3</td><td><div class=\"dni-plaintext\"><pre>3.5</pre></div></td></tr><tr><td>Item4</td><td><div class=\"dni-plaintext\"><pre>3</pre></div></td></tr></tbody></table></div></details><style>\r\n",
       ".dni-code-hint {\r\n",
       "    font-style: italic;\r\n",
       "    overflow: hidden;\r\n",
       "    white-space: nowrap;\r\n",
       "}\r\n",
       ".dni-treeview {\r\n",
       "    white-space: nowrap;\r\n",
       "}\r\n",
       ".dni-treeview td {\r\n",
       "    vertical-align: top;\r\n",
       "    text-align: start;\r\n",
       "}\r\n",
       "details.dni-treeview {\r\n",
       "    padding-left: 1em;\r\n",
       "}\r\n",
       "table td {\r\n",
       "    text-align: start;\r\n",
       "}\r\n",
       "table tr { \r\n",
       "    vertical-align: top; \r\n",
       "    margin: 0em 0px;\r\n",
       "}\r\n",
       "table tr td pre \r\n",
       "{ \r\n",
       "    vertical-align: top !important; \r\n",
       "    margin: 0em 0px !important;\r\n",
       "} \r\n",
       "table th {\r\n",
       "    text-align: start;\r\n",
       "}\r\n",
       "</style>"
      ]
     },
     "metadata": {},
     "output_type": "display_data"
    }
   ],
   "source": [
    "using TorchSharp;\n",
    "\n",
    "var a = torch.tensor(new double[] { 3.5 });\n",
    "(a, a.item<double>(), (float)a, a.ToInt32())"
   ]
  },
  {
   "cell_type": "markdown",
   "metadata": {},
   "source": [
    "其与字符串的转换也值得一提，因为和 PyTorch 的表现不太一致。特别是，其默认使用 `TensorStringStyle.Metadata` ，不包含张量中的元素，可能带来误导。（例如你可能把一个标量误以为是空的张量，因为它只打印 `[], type = Float64, device = cpu` 。）更多相关信息可以参考[此处](https://github.com/dotnet/TorchSharp/wiki/Tensor-String-Formatting)。"
   ]
  },
  {
   "cell_type": "code",
   "execution_count": 35,
   "metadata": {
    "vscode": {
     "languageId": "polyglot-notebook"
    }
   },
   "outputs": [
    {
     "name": "stdout",
     "output_type": "stream",
     "text": [
      "ToString(): [1], type = Float64, device = cpu\n",
      "ToString(): [1], type = Float64, device = cpu\n",
      " 3.5\n",
      "\n",
      "ToString(): [1], type = Float64, device = cpu, value = double [] {3.5}\n"
     ]
    }
   ],
   "source": [
    "Console.WriteLine($\"ToString(): {a.ToString()}\");\n",
    "Console.WriteLine($\"ToString(): {a.ToString(TensorStringStyle.Julia)}\");\n",
    "Console.WriteLine($\"ToString(): {a.cstr()}\");"
   ]
  }
 ],
 "metadata": {
  "language_info": {
   "name": "python"
  }
 },
 "nbformat": 4,
 "nbformat_minor": 2
}
