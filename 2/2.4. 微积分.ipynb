{
 "cells": [
  {
   "cell_type": "code",
   "execution_count": null,
   "metadata": {
    "dotnet_interactive": {
     "language": "csharp"
    },
    "polyglot_notebook": {
     "kernelName": "csharp"
    },
    "vscode": {
     "languageId": "polyglot-notebook"
    }
   },
   "outputs": [],
   "source": [
    "#r \"nuget: Yueyinqiu.Su.D2lTorchSharp, *-*\"\n",
    "\n",
    "using ScottPlot;\n",
    "using TorchSharp;\n",
    "using Yueyinqiu.Su.D2lTorchSharp;"
   ]
  },
  {
   "cell_type": "markdown",
   "metadata": {},
   "source": [
    "2.4.1. 导数和微分"
   ]
  },
  {
   "cell_type": "code",
   "execution_count": null,
   "metadata": {
    "dotnet_interactive": {
     "language": "csharp"
    },
    "polyglot_notebook": {
     "kernelName": "csharp"
    },
    "vscode": {
     "languageId": "polyglot-notebook"
    }
   },
   "outputs": [],
   "source": [
    "torch.Tensor f(torch.Tensor x)\n",
    "{\n",
    "    return 3 * x * x - 4 * x;\n",
    "}"
   ]
  },
  {
   "cell_type": "code",
   "execution_count": null,
   "metadata": {
    "dotnet_interactive": {
     "language": "csharp"
    },
    "polyglot_notebook": {
     "kernelName": "csharp"
    },
    "vscode": {
     "languageId": "polyglot-notebook"
    }
   },
   "outputs": [],
   "source": [
    "torch.Tensor numerical_lim(Func<torch.Tensor, torch.Tensor> f, torch.Tensor x, torch.Tensor h)\n",
    "{\n",
    "    return (f(x + h) - f(x)) / h;\n",
    "}\n",
    "\n",
    "var h = 0.1;\n",
    "foreach (var i in Enumerable.Range(0, 5))\n",
    "{\n",
    "    var lim = numerical_lim(f, 1, h).ToSingle();\n",
    "    Console.WriteLine($\"h={h:0.00000}, numerical limit={lim:0.00000}\");\n",
    "    h *= 0.1;\n",
    "}\n"
   ]
  },
  {
   "cell_type": "markdown",
   "metadata": {},
   "source": [
    "我们的绘图使用 [ScottPlot](https://scottplot.net/) 。使用以下方法可以在 Polyglot Notebooks 中注册相应的 Formatter ，从而将图像直接显示在笔记本中："
   ]
  },
  {
   "cell_type": "code",
   "execution_count": null,
   "metadata": {
    "dotnet_interactive": {
     "language": "csharp"
    },
    "polyglot_notebook": {
     "kernelName": "csharp"
    },
    "vscode": {
     "languageId": "polyglot-notebook"
    }
   },
   "outputs": [],
   "source": [
    "D2l.Notebook.RegisterScottPlotFormatter();\n",
    "\n",
    "var emptyPlot = new Plot();\n",
    "emptyPlot"
   ]
  },
  {
   "cell_type": "markdown",
   "metadata": {},
   "source": [
    "此方法已经包括了原文 `use_svg_display` 和 `set_figsize` 的作用，但使用。以后我们会始终在笔记本的顶端使用 `D2l.Notebook.PrepareAll();` ，其中已经包含了 `RegisterScottPlotFormatter` ，因此不需要另外调用。\n",
    "\n",
    "\n",
    "至于原文的 `set_axes` 和 `plot` 这边不提供类似的支持，但是为 `PlottableAdder` 添加了一些扩展方法，以更方便地绘制。"
   ]
  },
  {
   "cell_type": "code",
   "execution_count": null,
   "metadata": {
    "dotnet_interactive": {
     "language": "csharp"
    },
    "polyglot_notebook": {
     "kernelName": "csharp"
    },
    "vscode": {
     "languageId": "polyglot-notebook"
    }
   },
   "outputs": [],
   "source": [
    "var x = torch.arange(0, 3, 0.1);\n",
    "\n",
    "var plot = new Plot();\n",
    "plot.Legend.Alignment = Alignment.UpperLeft;\n",
    "plot.XLabel(\"x\");\n",
    "plot.YLabel(\"f(x)\");\n",
    "\n",
    "_ = plot.Add.ScatterLine(x, f(x), \"f(x)\");\n",
    "_ = plot.Add.ScatterLine(x, 2 * x - 3, \"Tangent line (x=1)\", LinePattern.Dashed);\n",
    "\n",
    "plot"
   ]
  }
 ],
 "metadata": {
  "kernelspec": {
   "display_name": ".NET (C#)",
   "language": "C#",
   "name": ".net-csharp"
  },
  "language_info": {
   "name": "python"
  },
  "polyglot_notebook": {
   "kernelInfo": {
    "defaultKernelName": "csharp",
    "items": [
     {
      "aliases": [],
      "name": "csharp"
     }
    ]
   }
  }
 },
 "nbformat": 4,
 "nbformat_minor": 2
}
