{
 "cells": [
  {
   "cell_type": "code",
   "execution_count": null,
   "metadata": {
    "dotnet_interactive": {
     "language": "csharp"
    },
    "polyglot_notebook": {
     "kernelName": "csharp"
    },
    "vscode": {
     "languageId": "polyglot-notebook"
    }
   },
   "outputs": [],
   "source": [
    "#r \"nuget: Yueyinqiu.Su.D2lTorchSharp, *-*\"\n",
    "\n",
    "using ScottPlot;\n",
    "using TorchSharp;\n",
    "using Yueyinqiu.Su.D2lTorchSharp;"
   ]
  },
  {
   "cell_type": "markdown",
   "metadata": {},
   "source": [
    "2.6.1. 基本概率论"
   ]
  },
  {
   "cell_type": "code",
   "execution_count": null,
   "metadata": {
    "dotnet_interactive": {
     "language": "csharp"
    },
    "polyglot_notebook": {
     "kernelName": "csharp"
    },
    "vscode": {
     "languageId": "polyglot-notebook"
    }
   },
   "outputs": [],
   "source": [
    "var fair_probs = torch.ones([6]) / 6;\n",
    "torch.distributions.Multinomial(1, fair_probs).sample()"
   ]
  },
  {
   "cell_type": "code",
   "execution_count": null,
   "metadata": {
    "dotnet_interactive": {
     "language": "csharp"
    },
    "polyglot_notebook": {
     "kernelName": "csharp"
    },
    "vscode": {
     "languageId": "polyglot-notebook"
    }
   },
   "outputs": [],
   "source": [
    "torch.distributions.Multinomial(10, fair_probs).sample()"
   ]
  },
  {
   "cell_type": "code",
   "execution_count": null,
   "metadata": {
    "dotnet_interactive": {
     "language": "csharp"
    },
    "polyglot_notebook": {
     "kernelName": "csharp"
    },
    "vscode": {
     "languageId": "polyglot-notebook"
    }
   },
   "outputs": [],
   "source": [
    "var counts = torch.distributions.Multinomial(1000, fair_probs).sample();\n",
    "counts / 1000"
   ]
  },
  {
   "cell_type": "code",
   "execution_count": null,
   "metadata": {
    "dotnet_interactive": {
     "language": "csharp"
    },
    "polyglot_notebook": {
     "kernelName": "csharp"
    },
    "vscode": {
     "languageId": "polyglot-notebook"
    }
   },
   "outputs": [],
   "source": [
    "var counts = torch.distributions.Multinomial(10, fair_probs).sample([500]);\n",
    "var cum_counts = counts.cumsum(dim: 0);\n",
    "var estimates = cum_counts / cum_counts.sum(dim: 1, keepdim: true);\n",
    "\n",
    "D2l.Notebook.RegisterScottPlotFormatter();\n",
    "\n",
    "var plot = new Plot();\n",
    "foreach (var i in Enumerable.Range(0, 6))\n",
    "    plot.Add.ScatterLine(null, estimates[.., i], $\"P(die={i + 1})\");\n",
    "plot.Add.HorizontalLine(y: 0.167, color: Colors.Black, pattern: LinePattern.Dashed);\n",
    "plot.XLabel(\"Groups of experiments\");\n",
    "plot.YLabel(\"Estimated probability\");\n",
    "plot.Legend.Alignment = Alignment.UpperRight;\n",
    "\n",
    "plot"
   ]
  }
 ],
 "metadata": {
  "language_info": {
   "name": "python"
  }
 },
 "nbformat": 4,
 "nbformat_minor": 2
}
