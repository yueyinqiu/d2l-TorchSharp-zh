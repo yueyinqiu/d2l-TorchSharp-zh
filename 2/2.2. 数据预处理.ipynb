{
 "cells": [
  {
   "cell_type": "markdown",
   "metadata": {},
   "source": [
    "由于 C# 中暂时没有可以完全替换 pandas 的包，且之后几乎也不会用到相关功能，此处暂时略过。"
   ]
  }
 ],
 "metadata": {
  "language_info": {
   "name": "python"
  }
 },
 "nbformat": 4,
 "nbformat_minor": 2
}
