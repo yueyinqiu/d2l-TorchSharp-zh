{
 "cells": [
  {
   "cell_type": "code",
   "execution_count": 4,
   "metadata": {
    "dotnet_interactive": {
     "language": "csharp"
    },
    "polyglot_notebook": {
     "kernelName": "csharp"
    },
    "vscode": {
     "languageId": "polyglot-notebook"
    }
   },
   "outputs": [
    {
     "data": {
      "text/html": [
       "<div><div></div><div></div><div><strong>Installed Packages</strong><ul><li><span>Yueyinqiu.Su.D2lTorchSharp, 0.0.3</span></li></ul></div></div>"
      ]
     },
     "metadata": {},
     "output_type": "display_data"
    }
   ],
   "source": [
    "#r \"nuget: Yueyinqiu.Su.D2lTorchSharp\""
   ]
  },
  {
   "cell_type": "markdown",
   "metadata": {},
   "source": [
    "2.2.1. 读取数据集"
   ]
  },
  {
   "cell_type": "code",
   "execution_count": 5,
   "metadata": {
    "dotnet_interactive": {
     "language": "csharp"
    },
    "polyglot_notebook": {
     "kernelName": "csharp"
    },
    "vscode": {
     "languageId": "polyglot-notebook"
    }
   },
   "outputs": [],
   "source": [
    "using System.IO;\n",
    "\n",
    "Directory.CreateDirectory(\"../gitignored/data\");\n",
    "using (var f = new StreamWriter(\"../gitignored/data/house_tiny.csv\", false))\n",
    "{\n",
    "    f.WriteLine(\"NumRooms,Alley,Price\");\n",
    "    f.WriteLine(\"NA,Pave,127500\");\n",
    "    f.WriteLine(\"2,NA,106000\");\n",
    "    f.WriteLine(\"4,NA,178100\");\n",
    "    f.WriteLine(\"NA,NA,140000\");\n",
    "}"
   ]
  },
  {
   "cell_type": "markdown",
   "metadata": {},
   "source": [
    "由于 C# 中没有 pandas ，我们使用 [Microsoft.Data.Analysis](https://www.nuget.org/packages/Microsoft.Data.Analysis) 代替。当然也可以使用 [https://github.com/SciSharp/Pandas.NET](https://www.nuget.org/packages/Pandas.NET) 、 [Deedle](https://www.nuget.org/packages/Deedle) 等其他包。"
   ]
  },
  {
   "cell_type": "code",
   "execution_count": 6,
   "metadata": {
    "dotnet_interactive": {
     "language": "csharp"
    },
    "polyglot_notebook": {
     "kernelName": "csharp"
    },
    "vscode": {
     "languageId": "polyglot-notebook"
    }
   },
   "outputs": [],
   "source": []
  }
 ],
 "metadata": {
  "language_info": {
   "name": "python"
  }
 },
 "nbformat": 4,
 "nbformat_minor": 2
}
