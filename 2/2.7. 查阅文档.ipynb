{
 "cells": [
  {
   "cell_type": "markdown",
   "metadata": {},
   "source": [
    "目前 TorchSharp 并没有提供特别完善的文档，但一般可以 [PyTorch 的文档](https://pytorch.org/docs/stable/index.html)作为参考。\n",
    "\n",
    "在 C# 中没有 `dir` 和 `help` ，但是一般情况下我们也不需要它们。这是因为现在的开发环境一般都有自动补全等一系列功能。在这一方面，由于 C# 是静态强类型语言，一般不可能出现在运行期间添加方法、添加类型的情况，因此它的相关功能一般都是非常完整的，不会出现如内容缺失、或因为不清楚类型而导致完全无法进行自动补全等情况。"
   ]
  }
 ],
 "metadata": {
  "language_info": {
   "name": "python"
  }
 },
 "nbformat": 4,
 "nbformat_minor": 2
}
